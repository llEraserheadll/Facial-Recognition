{
 "cells": [
  {
   "cell_type": "code",
   "execution_count": 1,
   "metadata": {},
   "outputs": [],
   "source": [
    "import cv2\n",
    "import mediapipe as mp\n",
    "import math\n",
    "from ctypes import cast, POINTER\n",
    "from comtypes import CLSCTX_ALL\n",
    "from pycaw.pycaw import AudioUtilities, IAudioEndpointVolume\n",
    "import numpy as np"
   ]
  },
  {
   "cell_type": "code",
   "execution_count": 2,
   "metadata": {},
   "outputs": [
    {
     "ename": "",
     "evalue": "",
     "output_type": "error",
     "traceback": [
      "\u001b[1;31mThe Kernel crashed while executing code in the the current cell or a previous cell. Please review the code in the cell(s) to identify a possible cause of the failure. Click <a href='https://aka.ms/vscodeJupyterKernelCrash'>here</a> for more info. View Jupyter <a href='command:jupyter.viewOutput'>log</a> for further details."
     ]
    }
   ],
   "source": [
    "# Initialize MediaPipe hands model\n",
    "mp_hands = mp.solutions.hands\n",
    "hands = mp_hands.Hands()\n",
    "mp_draw = mp.solutions.drawing_utils\n",
    "\n",
    "# Initialize the webcam\n",
    "cap = cv2.VideoCapture(0)\n",
    "\n",
    "# Volume control initialization\n",
    "devices = AudioUtilities.GetSpeakers()\n",
    "interface = devices.Activate(\n",
    "    IAudioEndpointVolume._iid_, CLSCTX_ALL, None)\n",
    "volume = cast(interface, POINTER(IAudioEndpointVolume))\n",
    "\n",
    "# Get current volume range\n",
    "volRange = volume.GetVolumeRange()\n",
    "minVol = volRange[0]\n",
    "maxVol = volRange[1]\n",
    "\n",
    "while True:\n",
    "    success, img = cap.read()\n",
    "    if not success:\n",
    "        continue\n",
    "\n",
    "    # Convert the image to RGB\n",
    "    imgRGB = cv2.cvtColor(img, cv2.COLOR_BGR2RGB)\n",
    "    results = hands.process(imgRGB)\n",
    "\n",
    "    lmList = []\n",
    "    if results.multi_hand_landmarks:\n",
    "        for handLms in results.multi_hand_landmarks:\n",
    "            mp_draw.draw_landmarks(img, handLms, mp_hands.HAND_CONNECTIONS)\n",
    "            for id, lm in enumerate(handLms.landmark):\n",
    "                h, w, c = img.shape\n",
    "                cx, cy = int(lm.x * w), int(lm.y * h)\n",
    "                lmList.append((cx, cy))\n",
    "\n",
    "    # Check if list has landmarks and calculate distance between index and thumb\n",
    "    if lmList:\n",
    "        x1, y1 = lmList[4][0], lmList[4][1]  # Thumb tip\n",
    "        x2, y2 = lmList[8][0], lmList[8][1]  # Index finger tip\n",
    "        cv2.circle(img, (x1, y1), 15, (255, 0, 255), cv2.FILLED)\n",
    "        cv2.circle(img, (x2, y2), 15, (255, 0, 255), cv2.FILLED)\n",
    "        cv2.line(img, (x1, y1), (x2, y2), (255, 0, 255), 3)\n",
    "         # Calculate distance between thumb and index finger\n",
    "        distance = math.hypot(x2 - x1, y2 - y1)\n",
    "\n",
    "        # Convert the distance to a volume level\n",
    "        vol = np.interp(distance, [50, 300], [minVol, maxVol])\n",
    "        volume.SetMasterVolumeLevel(vol, None)\n",
    "\n",
    "        # Display the distance on the image (optional)\n",
    "        cv2.putText(img, f'{int(distance)}', (50, 100), cv2.FONT_HERSHEY_PLAIN, 3, (255, 0, 255), 3)\n",
    "\n",
    "# Display the image\n",
    "    cv2.imshow(\"Image\", img)\n",
    "    if cv2.waitKey(1) & 0xFF == ord('q'):\n",
    "        break"
   ]
  }
 ],
 "metadata": {
  "kernelspec": {
   "display_name": "Python 3",
   "language": "python",
   "name": "python3"
  },
  "language_info": {
   "codemirror_mode": {
    "name": "ipython",
    "version": 3
   },
   "file_extension": ".py",
   "mimetype": "text/x-python",
   "name": "python",
   "nbconvert_exporter": "python",
   "pygments_lexer": "ipython3",
   "version": "3.11.0"
  }
 },
 "nbformat": 4,
 "nbformat_minor": 2
}
