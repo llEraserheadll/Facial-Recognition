{
 "cells": [
  {
   "cell_type": "markdown",
   "metadata": {},
   "source": [
    "Use downloaded dataset for training emotions"
   ]
  },
  {
   "cell_type": "markdown",
   "metadata": {},
   "source": [
    "rain an Emotion Recognition Model:\n",
    "\n",
    "Use the acquired dataset to train a CNN or other deep learning models for emotion recognition. You can use popular deep learning libraries like TensorFlow or PyTorch for this purpose.\n",
    "If you prefer, you can use pre-trained models for emotion recognition, such as those available in the TensorFlow/Keras Model Zoo."
   ]
  },
  {
   "cell_type": "code",
   "execution_count": 1,
   "metadata": {},
   "outputs": [],
   "source": [
    "import os\n",
    "import cv2\n",
    "import numpy as np\n",
    "from sklearn.model_selection import train_test_split\n",
    "from tensorflow.keras.utils import to_categorical"
   ]
  },
  {
   "cell_type": "code",
   "execution_count": 2,
   "metadata": {},
   "outputs": [],
   "source": [
    "train_dir = 'C:\\\\Users\\\\abina\\\\OneDrive\\\\Documents\\\\Facial detection\\\\archive (14)\\\\train'\n",
    "test_dir = 'C:\\\\Users\\\\abina\\\\OneDrive\\\\Documents\\\\Facial detection\\\\archive (14)\\\\test'"
   ]
  },
  {
   "cell_type": "code",
   "execution_count": 3,
   "metadata": {},
   "outputs": [],
   "source": [
    "emotion_categories = ['angry', 'disgusted', 'fearful', 'happy', 'sad', 'surprised', 'neutral']\t# Path: Codetest.ipynb"
   ]
  },
  {
   "cell_type": "code",
   "execution_count": 4,
   "metadata": {},
   "outputs": [],
   "source": [
    "train_images = []\n",
    "train_labels = []\n",
    "test_images = []\n",
    "test_labels = []"
   ]
  },
  {
   "cell_type": "code",
   "execution_count": 5,
   "metadata": {},
   "outputs": [],
   "source": [
    "for category_index, category in enumerate(emotion_categories):\n",
    "    category_folder = os.path.join(train_dir, category)\n",
    "    for image_name in os.listdir(category_folder):\n",
    "        image_path = os.path.join(category_folder, image_name)\n",
    "        image = cv2.imread(image_path)\n",
    "        image = cv2.resize(image, (128, 128))  # Resize the image to a consistent size\n",
    "        train_images.append(image)\n",
    "        train_labels.append(category_index)\n",
    "\n",
    "for category_index, category in enumerate(emotion_categories):\n",
    "    category_folder = os.path.join(test_dir, category)\n",
    "    for image_name in os.listdir(category_folder):\n",
    "        image_path = os.path.join(category_folder, image_name)\n",
    "        image = cv2.imread(image_path)\n",
    "        image = cv2.resize(image, (128, 128))  # Resize the image to a consistent size\n",
    "        test_images.append(image)\n",
    "        test_labels.append(category_index)"
   ]
  },
  {
   "cell_type": "code",
   "execution_count": 6,
   "metadata": {},
   "outputs": [],
   "source": [
    "# Convert lists to numpy arrays\n",
    "train_images = np.array(train_images)\n",
    "train_labels = np.array(train_labels)\n",
    "test_images = np.array(test_images)\n",
    "test_labels = np.array(test_labels)"
   ]
  },
  {
   "cell_type": "code",
   "execution_count": 7,
   "metadata": {},
   "outputs": [],
   "source": [
    "# Normalize pixel values to [0, 1]\n",
    "train_images = train_images.astype('float32') / 255.0\n",
    "test_images = test_images.astype('float32') / 255.0"
   ]
  },
  {
   "cell_type": "code",
   "execution_count": 8,
   "metadata": {},
   "outputs": [],
   "source": [
    "# Convert labels to categorical format (one-hot encoding)\n",
    "num_categories = len(emotion_categories)\n",
    "train_labels = to_categorical(train_labels, num_categories)\n",
    "test_labels = to_categorical(test_labels, num_categories)"
   ]
  },
  {
   "cell_type": "code",
   "execution_count": 9,
   "metadata": {},
   "outputs": [],
   "source": [
    "from tensorflow.keras.models import Sequential\n",
    "from tensorflow.keras.layers import Conv2D, MaxPooling2D, Flatten, Dense\n",
    "# Create the model architecture\n",
    "model = Sequential([\n",
    "    Conv2D(32, (3, 3), activation='relu', input_shape=(128, 128, 3)),\n",
    "    MaxPooling2D(2, 2),\n",
    "    Conv2D(64, (3, 3), activation='relu'),\n",
    "    MaxPooling2D(2, 2),\n",
    "    Flatten(),\n",
    "    Dense(128, activation='relu'),\n",
    "    Dense(num_categories, activation='softmax')\n",
    "])\n",
    "\n",
    "\n"
   ]
  },
  {
   "cell_type": "code",
   "execution_count": 10,
   "metadata": {},
   "outputs": [
    {
     "name": "stdout",
     "output_type": "stream",
     "text": [
      "Epoch 1/10\n",
      "898/898 [==============================] - 302s 335ms/step - loss: 1.6906 - accuracy: 0.3377 - val_loss: 1.5509 - val_accuracy: 0.4011\n",
      "Epoch 2/10\n",
      "898/898 [==============================] - 308s 343ms/step - loss: 1.4483 - accuracy: 0.4456 - val_loss: 1.4227 - val_accuracy: 0.4517\n",
      "Epoch 3/10\n",
      "898/898 [==============================] - 310s 345ms/step - loss: 1.2826 - accuracy: 0.5125 - val_loss: 1.3726 - val_accuracy: 0.4812\n",
      "Epoch 4/10\n",
      "898/898 [==============================] - 308s 342ms/step - loss: 1.1155 - accuracy: 0.5830 - val_loss: 1.4205 - val_accuracy: 0.4852\n",
      "Epoch 5/10\n",
      "898/898 [==============================] - 323s 360ms/step - loss: 0.9017 - accuracy: 0.6707 - val_loss: 1.4775 - val_accuracy: 0.4923\n",
      "Epoch 6/10\n",
      "898/898 [==============================] - 300s 334ms/step - loss: 0.6620 - accuracy: 0.7634 - val_loss: 1.6846 - val_accuracy: 0.4851\n",
      "Epoch 7/10\n",
      "898/898 [==============================] - 298s 332ms/step - loss: 0.4395 - accuracy: 0.8474 - val_loss: 2.1369 - val_accuracy: 0.4894\n",
      "Epoch 8/10\n",
      "898/898 [==============================] - 303s 337ms/step - loss: 0.2815 - accuracy: 0.9089 - val_loss: 2.6226 - val_accuracy: 0.4802\n",
      "Epoch 9/10\n",
      "898/898 [==============================] - 300s 334ms/step - loss: 0.1913 - accuracy: 0.9408 - val_loss: 3.1649 - val_accuracy: 0.4850\n",
      "Epoch 10/10\n",
      "898/898 [==============================] - 298s 331ms/step - loss: 0.1398 - accuracy: 0.9577 - val_loss: 3.6422 - val_accuracy: 0.4706\n",
      "225/225 [==============================] - 16s 72ms/step - loss: 3.6422 - accuracy: 0.4706\n",
      "Test loss: 3.6422\n",
      "Test accuracy: 0.4706\n"
     ]
    }
   ],
   "source": [
    "# Compile the model\n",
    "model.compile(optimizer='adam', loss='categorical_crossentropy', metrics=['accuracy'])\n",
    "\n",
    "# Train the model\n",
    "history = model.fit(train_images, train_labels, validation_data=(test_images, test_labels), epochs=10, batch_size=32)\n",
    "\n",
    "# Evaluate the model on the test set\n",
    "test_loss, test_accuracy = model.evaluate(test_images, test_labels)\n",
    "\n",
    "\n",
    "print(f\"Test loss: {test_loss:.4f}\")\n",
    "print(f\"Test accuracy: {test_accuracy:.4f}\")\n",
    "\n"
   ]
  },
  {
   "cell_type": "code",
   "execution_count": 11,
   "metadata": {},
   "outputs": [],
   "source": [
    "from tensorflow.keras.models import Sequential\n",
    "from tensorflow.keras.layers import Dense\n",
    "model.save('model.h5')"
   ]
  }
 ],
 "metadata": {
  "kernelspec": {
   "display_name": "base",
   "language": "python",
   "name": "python3"
  },
  "language_info": {
   "codemirror_mode": {
    "name": "ipython",
    "version": 3
   },
   "file_extension": ".py",
   "mimetype": "text/x-python",
   "name": "python",
   "nbconvert_exporter": "python",
   "pygments_lexer": "ipython3",
   "version": "3.9.13"
  },
  "orig_nbformat": 4
 },
 "nbformat": 4,
 "nbformat_minor": 2
}
